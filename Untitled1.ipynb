{
  "nbformat": 4,
  "nbformat_minor": 0,
  "metadata": {
    "colab": {
      "provenance": [],
      "authorship_tag": "ABX9TyOa9LXE9TomhT5y5g3a0gLH",
      "include_colab_link": true
    },
    "kernelspec": {
      "name": "python3",
      "display_name": "Python 3"
    },
    "language_info": {
      "name": "python"
    }
  },
  "cells": [
    {
      "cell_type": "markdown",
      "metadata": {
        "id": "view-in-github",
        "colab_type": "text"
      },
      "source": [
        "<a href=\"https://colab.research.google.com/github/Bah2303357/Auladia0409/blob/main/Untitled1.ipynb\" target=\"_parent\"><img src=\"https://colab.research.google.com/assets/colab-badge.svg\" alt=\"Open In Colab\"/></a>"
      ]
    },
    {
      "cell_type": "markdown",
      "source": [
        "**Ex.05 - Aula LP02**\n",
        "\n",
        "#Na parte de texto explicativo, o Hashtag é símbolo em linguagem MARKDOWN usado para formatação TÍTULO\n",
        "\n",
        "\n",
        "\n",
        "\n",
        "\n"
      ],
      "metadata": {
        "id": "kTiERC6AKqn-"
      }
    },
    {
      "cell_type": "markdown",
      "source": [
        "**Aula dia 04 de Setembro 2024**"
      ],
      "metadata": {
        "id": "IomBKbEDOahP"
      }
    },
    {
      "cell_type": "code",
      "execution_count": 2,
      "metadata": {
        "colab": {
          "base_uri": "https://localhost:8080/"
        },
        "id": "7qRfALfQITG8",
        "outputId": "6cac1970-0ed4-415a-884e-0bdd8403455f"
      },
      "outputs": [
        {
          "output_type": "stream",
          "name": "stdout",
          "text": [
            "Digite valor em polegalas: 2\n",
            "50.8\n"
          ]
        }
      ],
      "source": [
        "#Hashtag é comentário na parte onde eu programo\n",
        "P = float(input(\"Digite valor em polegalas: \"))\n",
        "mm = P * 25.4\n",
        "print(mm)\n"
      ]
    },
    {
      "cell_type": "markdown",
      "source": [
        "Exercício 5\n",
        "\n",
        "**Ler Raio**\n",
        "\n",
        "**Calcular Volume**\n",
        "\n",
        "**Exibir Volume**\n"
      ],
      "metadata": {
        "id": "qjdJZFCQRCFg"
      }
    },
    {
      "cell_type": "code",
      "source": [
        "from math import pi\n",
        "print(\"Programa para calcular volume da esfera\")\n",
        "\n",
        "raio = float(input(\"Digite valor em raio: \"))\n",
        "v = (4/3) * pi * (raio**3)\n",
        "print(\"Volume da esfera = \", v)\n"
      ],
      "metadata": {
        "colab": {
          "base_uri": "https://localhost:8080/"
        },
        "id": "QtD_159GOdGe",
        "outputId": "3eec0f0f-664c-4da9-ca78-15ca667c2810"
      },
      "execution_count": 13,
      "outputs": [
        {
          "output_type": "stream",
          "name": "stdout",
          "text": [
            "Programa para calcular volume da esfera\n",
            "Digite valor em raio: 3\n",
            "('Volume da esfera = ', 113.09733552923254) 2\n"
          ]
        }
      ]
    },
    {
      "cell_type": "markdown",
      "source": [
        "Exercício 6"
      ],
      "metadata": {
        "id": "cnimv_NXWT5Y"
      }
    },
    {
      "cell_type": "markdown",
      "source": [
        "**Receber um ângulo em graus**\n",
        "\n",
        "**Converter para radiano**\n",
        "\n",
        "**Exibir resultado**\n"
      ],
      "metadata": {
        "id": "9JWZzMKTMSMn"
      }
    },
    {
      "cell_type": "code",
      "source": [
        "from math import pi\n",
        "print(\"Programa para converter graus em radiano\")\n",
        "graus = float(input(\"Digite valor em graus: \"))\n",
        "radiano = graus * pi/180\n",
        "print(\"Valor em radiano = \", radiano)"
      ],
      "metadata": {
        "colab": {
          "base_uri": "https://localhost:8080/"
        },
        "id": "T4WNYfBGXVRq",
        "outputId": "f7a3a427-8bfd-4946-d15b-a8c172648d10"
      },
      "execution_count": 19,
      "outputs": [
        {
          "output_type": "stream",
          "name": "stdout",
          "text": [
            "Programa para converter graus em radiano\n",
            "Digite valor em graus: 45\n",
            "Valor em radiano =  0.7853981633974483\n"
          ]
        }
      ]
    }
  ]
}